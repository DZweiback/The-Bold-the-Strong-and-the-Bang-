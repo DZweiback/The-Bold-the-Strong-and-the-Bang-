{
 "cells": [
  {
   "cell_type": "code",
   "execution_count": 1,
   "metadata": {},
   "outputs": [],
   "source": [
    "#import requests\n",
    "from bs4 import BeautifulSoup as bs\n",
    "from splinter import Browser\n",
    "import pandas as pd\n",
    "import time\n",
    "import datetime\n",
    "#import selenium\n",
    "#import webdriver"
   ]
  },
  {
   "cell_type": "code",
   "execution_count": 2,
   "metadata": {},
   "outputs": [],
   "source": [
    "# WINDOWS/PC - Import splinter and set the cromedriver path\n",
    "executable_path = {'executable_path': 'chromedriver.exe'}\n",
    "browser = Browser('chrome', **executable_path, headless=False)\n",
    "\n",
    "# MAC - Import splinter and set the cromedriver path\n",
    "# executable_path = {'executable_path': '/usr/local/bin/chromedriver'}\n",
    "# browser = Browser('chrome', **executable_path, headless=False)"
   ]
  },
  {
   "cell_type": "markdown",
   "metadata": {},
   "source": [
    "# Scraping Website for Top 10 Tea Brands"
   ]
  },
  {
   "cell_type": "code",
   "execution_count": 3,
   "metadata": {},
   "outputs": [],
   "source": [
    "teas = []\n",
    "rankings = []\n",
    "description = []\n",
    "details = []\n",
    "price_ls = []"
   ]
  },
  {
   "cell_type": "code",
   "execution_count": 4,
   "metadata": {},
   "outputs": [
    {
     "name": "stdout",
     "output_type": "stream",
     "text": [
      "10. Vahadam High Mountain Oolong Tea\n",
      "9. TEAki Hut Organic Matcha Tea\n",
      "8. Matcha Organics\n",
      "7. Baetea\n",
      "6. Yogi Caramel Apple Spice\n",
      "5. Yogi Green Tea Blueberry\n",
      "4. Pure Tea Teatox\n",
      "3. Yogi Teas Detox\n",
      "2. Hyleys\n",
      "1. Masala Chai Oolong tea\n"
     ]
    }
   ],
   "source": [
    "# Scaping for the Top 10 Brands\n",
    "url = f\"https://topbestbrands.com/best-tea-brands/\"\n",
    "browser.visit(url)\n",
    "time.sleep(1)\n",
    "html = browser.html\n",
    "soup = bs(html, \"html.parser\")  #same as soup = bs(page.txt, 'html.parser') \n",
    "page = soup.find(class_=\"entry-content\")\n",
    "brandnames = page.find_all(\"h2\")\n",
    "#print(brandnames)\n",
    "        \n",
    "for b in brandnames:\n",
    "    print(b.text)\n",
    "    rankings.append(b.text.split(\".\")[0])\n",
    "    teas.append(b.text.split(\".\")[1])"
   ]
  },
  {
   "cell_type": "code",
   "execution_count": 24,
   "metadata": {},
   "outputs": [
    {
     "data": {
      "text/html": [
       "<div>\n",
       "<style scoped>\n",
       "    .dataframe tbody tr th:only-of-type {\n",
       "        vertical-align: middle;\n",
       "    }\n",
       "\n",
       "    .dataframe tbody tr th {\n",
       "        vertical-align: top;\n",
       "    }\n",
       "\n",
       "    .dataframe thead th {\n",
       "        text-align: right;\n",
       "    }\n",
       "</style>\n",
       "<table border=\"1\" class=\"dataframe\">\n",
       "  <thead>\n",
       "    <tr style=\"text-align: right;\">\n",
       "      <th></th>\n",
       "      <th>0</th>\n",
       "      <th>1</th>\n",
       "    </tr>\n",
       "  </thead>\n",
       "  <tbody>\n",
       "    <tr>\n",
       "      <th>0</th>\n",
       "      <td>10</td>\n",
       "      <td>Vahadam High Mountain Oolong Tea</td>\n",
       "    </tr>\n",
       "    <tr>\n",
       "      <th>1</th>\n",
       "      <td>9</td>\n",
       "      <td>TEAki Hut Organic Matcha Tea</td>\n",
       "    </tr>\n",
       "    <tr>\n",
       "      <th>2</th>\n",
       "      <td>8</td>\n",
       "      <td>Matcha Organics</td>\n",
       "    </tr>\n",
       "    <tr>\n",
       "      <th>3</th>\n",
       "      <td>7</td>\n",
       "      <td>Baetea</td>\n",
       "    </tr>\n",
       "    <tr>\n",
       "      <th>4</th>\n",
       "      <td>6</td>\n",
       "      <td>Yogi Caramel Apple Spice</td>\n",
       "    </tr>\n",
       "    <tr>\n",
       "      <th>5</th>\n",
       "      <td>5</td>\n",
       "      <td>Yogi Green Tea Blueberry</td>\n",
       "    </tr>\n",
       "    <tr>\n",
       "      <th>6</th>\n",
       "      <td>4</td>\n",
       "      <td>Pure Tea Teatox</td>\n",
       "    </tr>\n",
       "    <tr>\n",
       "      <th>7</th>\n",
       "      <td>3</td>\n",
       "      <td>Yogi Teas Detox</td>\n",
       "    </tr>\n",
       "    <tr>\n",
       "      <th>8</th>\n",
       "      <td>2</td>\n",
       "      <td>Hyleys</td>\n",
       "    </tr>\n",
       "    <tr>\n",
       "      <th>9</th>\n",
       "      <td>1</td>\n",
       "      <td>Masala Chai Oolong tea</td>\n",
       "    </tr>\n",
       "  </tbody>\n",
       "</table>\n",
       "</div>"
      ],
      "text/plain": [
       "    0                                  1\n",
       "0  10   Vahadam High Mountain Oolong Tea\n",
       "1   9       TEAki Hut Organic Matcha Tea\n",
       "2   8                    Matcha Organics\n",
       "3   7                             Baetea\n",
       "4   6           Yogi Caramel Apple Spice\n",
       "5   5           Yogi Green Tea Blueberry\n",
       "6   4                    Pure Tea Teatox\n",
       "7   3                    Yogi Teas Detox\n",
       "8   2                             Hyleys\n",
       "9   1             Masala Chai Oolong tea"
      ]
     },
     "execution_count": 24,
     "metadata": {},
     "output_type": "execute_result"
    }
   ],
   "source": [
    "name_df = pd.DataFrame([rankings, teas]).T\n",
    "name_df "
   ]
  },
  {
   "cell_type": "code",
   "execution_count": 35,
   "metadata": {},
   "outputs": [
    {
     "data": {
      "text/html": [
       "<div>\n",
       "<style scoped>\n",
       "    .dataframe tbody tr th:only-of-type {\n",
       "        vertical-align: middle;\n",
       "    }\n",
       "\n",
       "    .dataframe tbody tr th {\n",
       "        vertical-align: top;\n",
       "    }\n",
       "\n",
       "    .dataframe thead th {\n",
       "        text-align: right;\n",
       "    }\n",
       "</style>\n",
       "<table border=\"1\" class=\"dataframe\">\n",
       "  <thead>\n",
       "    <tr style=\"text-align: right;\">\n",
       "      <th></th>\n",
       "      <th>0</th>\n",
       "    </tr>\n",
       "  </thead>\n",
       "  <tbody>\n",
       "    <tr>\n",
       "      <th>1</th>\n",
       "      <td>This is a delicious loose leaf tea that has a ...</td>\n",
       "    </tr>\n",
       "    <tr>\n",
       "      <th>2</th>\n",
       "      <td>This brand has no additives, and it aids in in...</td>\n",
       "    </tr>\n",
       "    <tr>\n",
       "      <th>3</th>\n",
       "      <td>Boost calorie burning with this great tasting ...</td>\n",
       "    </tr>\n",
       "    <tr>\n",
       "      <th>4</th>\n",
       "      <td>Getting a flat tummy and the desired figure th...</td>\n",
       "    </tr>\n",
       "    <tr>\n",
       "      <th>5</th>\n",
       "      <td>Maintain an active lifestyle with this item wh...</td>\n",
       "    </tr>\n",
       "    <tr>\n",
       "      <th>6</th>\n",
       "      <td>Suppress your appetite with this product that ...</td>\n",
       "    </tr>\n",
       "    <tr>\n",
       "      <th>7</th>\n",
       "      <td>This cleansing tea has been enriched with frui...</td>\n",
       "    </tr>\n",
       "    <tr>\n",
       "      <th>8</th>\n",
       "      <td>If you are looking for non-caffeinated product...</td>\n",
       "    </tr>\n",
       "    <tr>\n",
       "      <th>9</th>\n",
       "      <td>This tea works as a gentle laxative so that yo...</td>\n",
       "    </tr>\n",
       "    <tr>\n",
       "      <th>10</th>\n",
       "      <td>This high quality product is provided with mea...</td>\n",
       "    </tr>\n",
       "  </tbody>\n",
       "</table>\n",
       "</div>"
      ],
      "text/plain": [
       "                                                    0\n",
       "1   This is a delicious loose leaf tea that has a ...\n",
       "2   This brand has no additives, and it aids in in...\n",
       "3   Boost calorie burning with this great tasting ...\n",
       "4   Getting a flat tummy and the desired figure th...\n",
       "5   Maintain an active lifestyle with this item wh...\n",
       "6   Suppress your appetite with this product that ...\n",
       "7   This cleansing tea has been enriched with frui...\n",
       "8   If you are looking for non-caffeinated product...\n",
       "9   This tea works as a gentle laxative so that yo...\n",
       "10  This high quality product is provided with mea..."
      ]
     },
     "execution_count": 35,
     "metadata": {},
     "output_type": "execute_result"
    }
   ],
   "source": [
    "# Scrape for description\n",
    "description = []\n",
    "for paragraph in page.find_all('p'):\n",
    "    for span in paragraph.find_all('span'):\n",
    "        span.decompose()\n",
    "    #print(paragraph.text)\n",
    "    if paragraph.text != \"\" and paragraph.text != \"\\n\":\n",
    "        description.append(paragraph.text)\n",
    "\n",
    "description_df = pd.DataFrame([description]).T\n",
    "description_df.drop([0,11], axis=0)"
   ]
  },
  {
   "cell_type": "code",
   "execution_count": 28,
   "metadata": {},
   "outputs": [
    {
     "data": {
      "text/html": [
       "<div>\n",
       "<style scoped>\n",
       "    .dataframe tbody tr th:only-of-type {\n",
       "        vertical-align: middle;\n",
       "    }\n",
       "\n",
       "    .dataframe tbody tr th {\n",
       "        vertical-align: top;\n",
       "    }\n",
       "\n",
       "    .dataframe thead th {\n",
       "        text-align: right;\n",
       "    }\n",
       "</style>\n",
       "<table border=\"1\" class=\"dataframe\">\n",
       "  <thead>\n",
       "    <tr style=\"text-align: right;\">\n",
       "      <th></th>\n",
       "      <th>0</th>\n",
       "      <th>1</th>\n",
       "      <th>description</th>\n",
       "    </tr>\n",
       "  </thead>\n",
       "  <tbody>\n",
       "    <tr>\n",
       "      <th>0</th>\n",
       "      <td>10</td>\n",
       "      <td>Vahadam High Mountain Oolong Tea</td>\n",
       "      <td>Teas brands are loved by many people and there...</td>\n",
       "    </tr>\n",
       "    <tr>\n",
       "      <th>1</th>\n",
       "      <td>9</td>\n",
       "      <td>TEAki Hut Organic Matcha Tea</td>\n",
       "      <td>This is a delicious loose leaf tea that has a ...</td>\n",
       "    </tr>\n",
       "    <tr>\n",
       "      <th>2</th>\n",
       "      <td>8</td>\n",
       "      <td>Matcha Organics</td>\n",
       "      <td>This brand has no additives, and it aids in in...</td>\n",
       "    </tr>\n",
       "    <tr>\n",
       "      <th>3</th>\n",
       "      <td>7</td>\n",
       "      <td>Baetea</td>\n",
       "      <td>Boost calorie burning with this great tasting ...</td>\n",
       "    </tr>\n",
       "    <tr>\n",
       "      <th>4</th>\n",
       "      <td>6</td>\n",
       "      <td>Yogi Caramel Apple Spice</td>\n",
       "      <td>Getting a flat tummy and the desired figure th...</td>\n",
       "    </tr>\n",
       "    <tr>\n",
       "      <th>5</th>\n",
       "      <td>5</td>\n",
       "      <td>Yogi Green Tea Blueberry</td>\n",
       "      <td>Maintain an active lifestyle with this item wh...</td>\n",
       "    </tr>\n",
       "    <tr>\n",
       "      <th>6</th>\n",
       "      <td>4</td>\n",
       "      <td>Pure Tea Teatox</td>\n",
       "      <td>Suppress your appetite with this product that ...</td>\n",
       "    </tr>\n",
       "    <tr>\n",
       "      <th>7</th>\n",
       "      <td>3</td>\n",
       "      <td>Yogi Teas Detox</td>\n",
       "      <td>This cleansing tea has been enriched with frui...</td>\n",
       "    </tr>\n",
       "    <tr>\n",
       "      <th>8</th>\n",
       "      <td>2</td>\n",
       "      <td>Hyleys</td>\n",
       "      <td>If you are looking for non-caffeinated product...</td>\n",
       "    </tr>\n",
       "    <tr>\n",
       "      <th>9</th>\n",
       "      <td>1</td>\n",
       "      <td>Masala Chai Oolong tea</td>\n",
       "      <td>This tea works as a gentle laxative so that yo...</td>\n",
       "    </tr>\n",
       "  </tbody>\n",
       "</table>\n",
       "</div>"
      ],
      "text/plain": [
       "    0                                  1  \\\n",
       "0  10   Vahadam High Mountain Oolong Tea   \n",
       "1   9       TEAki Hut Organic Matcha Tea   \n",
       "2   8                    Matcha Organics   \n",
       "3   7                             Baetea   \n",
       "4   6           Yogi Caramel Apple Spice   \n",
       "5   5           Yogi Green Tea Blueberry   \n",
       "6   4                    Pure Tea Teatox   \n",
       "7   3                    Yogi Teas Detox   \n",
       "8   2                             Hyleys   \n",
       "9   1             Masala Chai Oolong tea   \n",
       "\n",
       "                                         description  \n",
       "0  Teas brands are loved by many people and there...  \n",
       "1  This is a delicious loose leaf tea that has a ...  \n",
       "2  This brand has no additives, and it aids in in...  \n",
       "3  Boost calorie burning with this great tasting ...  \n",
       "4  Getting a flat tummy and the desired figure th...  \n",
       "5  Maintain an active lifestyle with this item wh...  \n",
       "6  Suppress your appetite with this product that ...  \n",
       "7  This cleansing tea has been enriched with frui...  \n",
       "8  If you are looking for non-caffeinated product...  \n",
       "9  This tea works as a gentle laxative so that yo...  "
      ]
     },
     "execution_count": 28,
     "metadata": {},
     "output_type": "execute_result"
    }
   ],
   "source": [
    "name_df[\"description\"] = description_df.iloc[0:]\n",
    "name_df"
   ]
  },
  {
   "cell_type": "code",
   "execution_count": 23,
   "metadata": {},
   "outputs": [
    {
     "name": "stdout",
     "output_type": "stream",
     "text": [
      "$14.99\n",
      "$6.95\n",
      "$19.95\n",
      "$24.95\n",
      "$23.88\n",
      "$23.88\n",
      "$5.99\n"
     ]
    },
    {
     "data": {
      "text/html": [
       "<div>\n",
       "<style scoped>\n",
       "    .dataframe tbody tr th:only-of-type {\n",
       "        vertical-align: middle;\n",
       "    }\n",
       "\n",
       "    .dataframe tbody tr th {\n",
       "        vertical-align: top;\n",
       "    }\n",
       "\n",
       "    .dataframe thead th {\n",
       "        text-align: right;\n",
       "    }\n",
       "</style>\n",
       "<table border=\"1\" class=\"dataframe\">\n",
       "  <thead>\n",
       "    <tr style=\"text-align: right;\">\n",
       "      <th></th>\n",
       "      <th>0</th>\n",
       "    </tr>\n",
       "  </thead>\n",
       "  <tbody>\n",
       "    <tr>\n",
       "      <th>0</th>\n",
       "      <td>$14.99</td>\n",
       "    </tr>\n",
       "    <tr>\n",
       "      <th>1</th>\n",
       "      <td>$6.95</td>\n",
       "    </tr>\n",
       "    <tr>\n",
       "      <th>2</th>\n",
       "      <td>$19.95</td>\n",
       "    </tr>\n",
       "    <tr>\n",
       "      <th>3</th>\n",
       "      <td>$24.95</td>\n",
       "    </tr>\n",
       "    <tr>\n",
       "      <th>4</th>\n",
       "      <td>$23.88</td>\n",
       "    </tr>\n",
       "    <tr>\n",
       "      <th>5</th>\n",
       "      <td>$23.88</td>\n",
       "    </tr>\n",
       "    <tr>\n",
       "      <th>6</th>\n",
       "      <td>$5.99</td>\n",
       "    </tr>\n",
       "  </tbody>\n",
       "</table>\n",
       "</div>"
      ],
      "text/plain": [
       "        0\n",
       "0  $14.99\n",
       "1   $6.95\n",
       "2  $19.95\n",
       "3  $24.95\n",
       "4  $23.88\n",
       "5  $23.88\n",
       "6   $5.99"
      ]
     },
     "execution_count": 23,
     "metadata": {},
     "output_type": "execute_result"
    }
   ],
   "source": [
    "# Scraping Amazon for About Information and Prices\n",
    "\n",
    "price_ls = []\n",
    "\n",
    "price = page.tbody.find_all('span', class_=\"aat-product-price aat-product-price-current\")\n",
    "#print(price)\n",
    "for p in price:\n",
    "    print(p.text)\n",
    "    price_ls.append(p.text)\n",
    "\n",
    "price_df = pd.DataFrame(price_ls)\n",
    "price_df  "
   ]
  },
  {
   "cell_type": "markdown",
   "metadata": {},
   "source": [
    "# Scraping the Most Expensive Teas"
   ]
  },
  {
   "cell_type": "code",
   "execution_count": 94,
   "metadata": {},
   "outputs": [
    {
     "name": "stdout",
     "output_type": "stream",
     "text": [
      "Da Hong Pao (Big Red Robe) – This tea can fetch as much as $1,200 for a single gram! At a price of 1.2 million for each kilogram, original Da Hong Pao is worth much more than it’s weight in gold. Da Hong Pao is heavily oxidized Oolong tea grown in the Wuyi mountains of China’s Fujian province. The most expensive varieties are harvested from tea bushes that have been there since the Song dynasty (960-1279 AD) and are under constant surveillance by armed guards. Cheaper varieties of this tea can be bough for much more affordable prices.\n",
      "PG Tips Diamond Tea Bag – This tea bag is literally encrusted in diamonds – 280 to be exact. At $15,000 per bag, this is the ultimate statement of luxury. It is sold only at Harrod’s tea store in London. Read more about it here.\n",
      "Narcissus Wuyi Oolong – Similar to Da Hong Pao, Narcissus oolong grows in the Wuyi Mountains of China. Vintage varieties go for as much as $6,500 per kilogram.\n",
      "Tieguanyin/Ti Kuan Yin (Iron Goddess) – Another Chinese oolong grown in Fujian Province. This rich oolong can be brewed many times over without loosing its flavor and sells for $3,000 per kilogram, although there are more affordable varieties.\n",
      "Yellow Gold Tea Buds – Young buds are clipped from the tea bush once a year and are then sprayed or dusted with real gold. This tea is safe to consume but is not safe for the wallet, selling for $3,000 per kilogram. TWG actually has some available if you’re interested. Check it out here.\n"
     ]
    },
    {
     "data": {
      "text/html": [
       "<div>\n",
       "<style scoped>\n",
       "    .dataframe tbody tr th:only-of-type {\n",
       "        vertical-align: middle;\n",
       "    }\n",
       "\n",
       "    .dataframe tbody tr th {\n",
       "        vertical-align: top;\n",
       "    }\n",
       "\n",
       "    .dataframe thead th {\n",
       "        text-align: right;\n",
       "    }\n",
       "</style>\n",
       "<table border=\"1\" class=\"dataframe\">\n",
       "  <thead>\n",
       "    <tr style=\"text-align: right;\">\n",
       "      <th></th>\n",
       "      <th>0</th>\n",
       "      <th>1</th>\n",
       "    </tr>\n",
       "  </thead>\n",
       "  <tbody>\n",
       "    <tr>\n",
       "      <th>0</th>\n",
       "      <td>Da Hong Pao (Big Red Robe)</td>\n",
       "      <td>This tea can fetch as much as $1,200 for a sin...</td>\n",
       "    </tr>\n",
       "    <tr>\n",
       "      <th>1</th>\n",
       "      <td>PG Tips Diamond Tea Bag</td>\n",
       "      <td>This tea bag is literally encrusted in diamonds</td>\n",
       "    </tr>\n",
       "    <tr>\n",
       "      <th>2</th>\n",
       "      <td>Narcissus Wuyi Oolong</td>\n",
       "      <td>Similar to Da Hong Pao, Narcissus oolong grows...</td>\n",
       "    </tr>\n",
       "    <tr>\n",
       "      <th>3</th>\n",
       "      <td>Tieguanyin/Ti Kuan Yin (Iron Goddess)</td>\n",
       "      <td>Another Chinese oolong grown in Fujian Provinc...</td>\n",
       "    </tr>\n",
       "    <tr>\n",
       "      <th>4</th>\n",
       "      <td>Yellow Gold Tea Buds</td>\n",
       "      <td>Young buds are clipped from the tea bush once ...</td>\n",
       "    </tr>\n",
       "  </tbody>\n",
       "</table>\n",
       "</div>"
      ],
      "text/plain": [
       "                                       0  \\\n",
       "0             Da Hong Pao (Big Red Robe)   \n",
       "1                PG Tips Diamond Tea Bag   \n",
       "2                  Narcissus Wuyi Oolong   \n",
       "3  Tieguanyin/Ti Kuan Yin (Iron Goddess)   \n",
       "4                   Yellow Gold Tea Buds   \n",
       "\n",
       "                                                   1  \n",
       "0  This tea can fetch as much as $1,200 for a sin...  \n",
       "1    This tea bag is literally encrusted in diamonds  \n",
       "2  Similar to Da Hong Pao, Narcissus oolong grows...  \n",
       "3  Another Chinese oolong grown in Fujian Provinc...  \n",
       "4  Young buds are clipped from the tea bush once ...  "
      ]
     },
     "execution_count": 94,
     "metadata": {},
     "output_type": "execute_result"
    }
   ],
   "source": [
    "# Scaping for the Top 10 Brands\n",
    "exp_teabrand = []\n",
    "exp_reason = []\n",
    "\n",
    "url = f\"https://tea-culture.net/best-luxury-tea-brands/#best-luxury-tea-brand-comparison-table\"\n",
    "browser.visit(url)\n",
    "time.sleep(1)\n",
    "html = browser.html\n",
    "exp_soup = bs(html, \"html.parser\")  #same as soup = bs(page.txt, 'html.parser') \n",
    "#page2 = exp_soup.find_all('div', class_=\"post_header single\")\n",
    "page2 = exp_soup.ol.find_all('li')\n",
    "for t in page2:\n",
    "    print(t.text)\n",
    "    exp_teabrand.append(t.text.split(\" – \")[0])\n",
    "    exp_reason.append(t.text.split(\" – \")[1])\n",
    "exp_tea_df = pd.DataFrame([exp_teabrand, exp_reason]).T\n",
    "exp_tea_df "
   ]
  },
  {
   "cell_type": "code",
   "execution_count": null,
   "metadata": {},
   "outputs": [],
   "source": [
    "# FUN FACTS"
   ]
  },
  {
   "cell_type": "code",
   "execution_count": 135,
   "metadata": {},
   "outputs": [],
   "source": [
    "url = f\"https://teatropolitan.wordpress.com/category/did-you-know/\"\n",
    "browser.visit(url)\n",
    "time.sleep(1)\n",
    "html = browser.html\n",
    "fun_soup = bs(html, \"html.parser\")  #same as soup = bs(page.txt, 'html.parser') \n",
    "page3 = fun_soup.find_all('div', class_='post-1287')\n",
    "#fun_entry = page3.find('div', class_='entry')\n",
    "#print(fun_entry)"
   ]
  },
  {
   "cell_type": "code",
   "execution_count": null,
   "metadata": {},
   "outputs": [],
   "source": [
    "# Harvest Locations\n",
    "# Manufacturing Process\n",
    "# Health Claims\n",
    "# Average Price\n",
    "# Consumer Reviews\n",
    "# Brew Process\n",
    "# Caffine Levels"
   ]
  },
  {
   "cell_type": "code",
   "execution_count": null,
   "metadata": {},
   "outputs": [],
   "source": []
  },
  {
   "cell_type": "markdown",
   "metadata": {},
   "source": [
    "# Two Methods of Scraping Tables\n",
    "\n",
    "# First method\n",
    "#table = soup.find('table')\n",
    "#table_rows = table.find_all('tr')\n",
    "#print(table_rows)\n",
    "\n",
    "#for tr in table_rows:\n",
    "    #td = tr.find_all ('td')\n",
    "    #row = [i.text for i in td]\n",
    "    #print(row)\n",
    "    \n",
    "# Second method - easier    \n",
    "#dfs = pd.read_html(f\"https://topbestbrands.com/best-tea-brands/\")\n",
    "#for df in dfs:\n",
    "    #print(df)    \n"
   ]
  },
  {
   "cell_type": "code",
   "execution_count": null,
   "metadata": {},
   "outputs": [],
   "source": []
  },
  {
   "cell_type": "code",
   "execution_count": null,
   "metadata": {},
   "outputs": [],
   "source": []
  },
  {
   "cell_type": "code",
   "execution_count": null,
   "metadata": {},
   "outputs": [],
   "source": []
  },
  {
   "cell_type": "code",
   "execution_count": null,
   "metadata": {},
   "outputs": [],
   "source": []
  },
  {
   "cell_type": "markdown",
   "metadata": {},
   "source": [
    "# ETL SAMPLE CODE"
   ]
  },
  {
   "cell_type": "code",
   "execution_count": null,
   "metadata": {},
   "outputs": [],
   "source": [
    "combined = pd.merge(df, brands, on=\"Top 10 Teas URL (https://topbestbrands.com/best-tea-brands/)\")\n",
    "#combined = combined.drop([\"Subreddit URL (https://www.reddit.com/r/)\"], axis=1)\n",
    "combined.head(32)"
   ]
  },
  {
   "cell_type": "code",
   "execution_count": null,
   "metadata": {},
   "outputs": [],
   "source": [
    "combined.to_csv(\"TeamsSubs.csv\", index=False, header=True)"
   ]
  },
  {
   "cell_type": "markdown",
   "metadata": {},
   "source": [
    "# Scraping Team Values"
   ]
  },
  {
   "cell_type": "code",
   "execution_count": null,
   "metadata": {},
   "outputs": [],
   "source": [
    "values_url = \"https://www.reddit.com/r/nfl/comments/9hflml/forbes_nfl_2018_team_valuations_most_valuable/\""
   ]
  },
  {
   "cell_type": "code",
   "execution_count": null,
   "metadata": {},
   "outputs": [],
   "source": [
    "tables = pd.read_html(values_url)\n",
    "tables"
   ]
  },
  {
   "cell_type": "code",
   "execution_count": null,
   "metadata": {},
   "outputs": [],
   "source": [
    "values_df = tables[0]\n",
    "values_df.columns = [\"Team\", \"Value ($B)\", \"Revenue ($M)\", \"Operating Income ($M)\"]"
   ]
  },
  {
   "cell_type": "code",
   "execution_count": null,
   "metadata": {},
   "outputs": [],
   "source": [
    "values_combined = pd.merge(combined, values_df, on=\"Team\")\n",
    "values_combined.head(32)"
   ]
  },
  {
   "cell_type": "code",
   "execution_count": null,
   "metadata": {},
   "outputs": [],
   "source": [
    "values_combined.to_csv(\"TeamsSubsValues.csv\", index=False, header=True)"
   ]
  },
  {
   "cell_type": "markdown",
   "metadata": {},
   "source": [
    "# Scraping City Populations"
   ]
  },
  {
   "cell_type": "code",
   "execution_count": null,
   "metadata": {},
   "outputs": [],
   "source": [
    "cities = values_combined[\"Real City\"].tolist()\n",
    "cities"
   ]
  },
  {
   "cell_type": "code",
   "execution_count": null,
   "metadata": {},
   "outputs": [],
   "source": [
    "cities = [item.replace(\", \", \"-\") for item in cities]\n",
    "cities = [item.replace(\"New York City\", \"New York\") for item in cities]\n",
    "cities = [item.replace(\" \", \"-\") for item in cities]\n",
    "cities = [item.replace(\"Nashville-Tennessee\", \"Nashville-Davidson-Tennessee\") for item in cities]\n",
    "cities = [item.replace(\"Washington-DC\", \"Washington-District-of-Columbia\") for item in cities]\n",
    "cities_urls = [item + \".html\" for item in cities]\n",
    "cities_urls"
   ]
  },
  {
   "cell_type": "code",
   "execution_count": null,
   "metadata": {},
   "outputs": [],
   "source": [
    "values_combined['City URL'] = pd.Series(cities_urls)\n",
    "values_combined.head(32)"
   ]
  },
  {
   "cell_type": "code",
   "execution_count": null,
   "metadata": {},
   "outputs": [],
   "source": [
    "populations = []\n",
    "\n",
    "for city in cities_urls:\n",
    "    pop_url = f\"http://www.city-data.com/city/{city}\"\n",
    "    browser.visit(pop_url)\n",
    "    time.sleep(1)\n",
    "    pop_html = browser.html\n",
    "    pop_soup = bs(pop_html, \"html.parser\")\n",
    "    population = int(float(pop_soup.find(\"section\", class_=\"city-population\").text.split(\":\")[1].strip().replace(\",\",\"\")))\n",
    "    pop_dictionary = {\"City URL\":city, \"Population (2016)\":population}\n",
    "    populations.append(pop_dictionary)"
   ]
  },
  {
   "cell_type": "code",
   "execution_count": null,
   "metadata": {},
   "outputs": [],
   "source": [
    "pop_df = pd.DataFrame(populations)\n",
    "values_pop_df = pd.merge(values_combined, pop_df, on=\"City URL\")\n",
    "values_pop_df = values_pop_df.drop([\"City URL\"], axis=1)\n",
    "values_pop_df = values_pop_df.drop([21, 23, 28, 30])\n",
    "values_pop_df = values_pop_df.reset_index()\n",
    "values_pop_df.head(32)"
   ]
  },
  {
   "cell_type": "code",
   "execution_count": null,
   "metadata": {},
   "outputs": [],
   "source": [
    "values_pop_df.to_csv(\"TeamsSubsValuesPops.csv\", index=False, header=True)"
   ]
  },
  {
   "cell_type": "markdown",
   "metadata": {},
   "source": [
    "# Scraping Team Ages"
   ]
  },
  {
   "cell_type": "code",
   "execution_count": null,
   "metadata": {},
   "outputs": [],
   "source": [
    "ages_url = \"https://en.wikipedia.org/wiki/National_Football_League\""
   ]
  },
  {
   "cell_type": "code",
   "execution_count": null,
   "metadata": {},
   "outputs": [],
   "source": [
    "ages_tables = pd.read_html(ages_url)\n",
    "ages_tables"
   ]
  },
  {
   "cell_type": "code",
   "execution_count": null,
   "metadata": {},
   "outputs": [],
   "source": [
    "ages_df = ages_tables[2]\n",
    "ages_df = ages_df[[\"Club[57]\", 'First season[59]']]\n",
    "ages_df.columns = [\"Team\", \"Founded\"]\n",
    "years = ages_df[\"Founded\"].tolist()\n",
    "years = [item[:4] for item in years]\n",
    "del years[16]\n",
    "years = years[:-1]\n",
    "years = [int(item) for item in years]"
   ]
  },
  {
   "cell_type": "code",
   "execution_count": null,
   "metadata": {},
   "outputs": [],
   "source": [
    "teams = ages_df[\"Team\"].tolist()\n",
    "del teams[16]\n",
    "del teams[32]"
   ]
  },
  {
   "cell_type": "code",
   "execution_count": null,
   "metadata": {},
   "outputs": [],
   "source": [
    "cleanteams = []\n",
    "\n",
    "for foo in teams:\n",
    "    try:\n",
    "        team = foo.split(\"*\")[0]\n",
    "        cleanteams.append(team)\n",
    "    except:\n",
    "        cleanteams.append(foo)"
   ]
  },
  {
   "cell_type": "code",
   "execution_count": null,
   "metadata": {},
   "outputs": [],
   "source": [
    "teamages = []\n",
    "currentyear = datetime.date.today().year\n",
    "\n",
    "for x in years:\n",
    "    teamage = currentyear - x\n",
    "    teamages.append(teamage)"
   ]
  },
  {
   "cell_type": "code",
   "execution_count": null,
   "metadata": {},
   "outputs": [],
   "source": [
    "ages_df = pd.DataFrame({\n",
    "    \"Team\": cleanteams,\n",
    "    \"Team Age\": teamages\n",
    "})"
   ]
  },
  {
   "cell_type": "code",
   "execution_count": null,
   "metadata": {},
   "outputs": [],
   "source": [
    "ages_df.head(32)"
   ]
  },
  {
   "cell_type": "code",
   "execution_count": null,
   "metadata": {},
   "outputs": [],
   "source": [
    "final_df = pd.merge(values_pop_df, ages_df, on=\"Team\")\n",
    "final_df = final_df.drop([\"index\"], axis=1)\n",
    "final_df.head(32)"
   ]
  },
  {
   "cell_type": "code",
   "execution_count": null,
   "metadata": {},
   "outputs": [],
   "source": [
    "final_df.to_csv(\"TeamsSubsValuesPopsAges.csv\", index=False, header=True)"
   ]
  },
  {
   "cell_type": "markdown",
   "metadata": {},
   "source": [
    "# Loading to AWS DB"
   ]
  },
  {
   "cell_type": "code",
   "execution_count": null,
   "metadata": {},
   "outputs": [],
   "source": [
    "from sqlalchemy import create_engine\n",
    "from config import remote_db_endpoint, remote_db_port\n",
    "from config import remote_gwsis_dbname, remote_gwsis_dbuser, remote_gwsis_dbpwd\n",
    "import pymysql\n",
    "import pandas as pd\n",
    "pymysql.install_as_MySQLdb()\n",
    "# endpoint: gwda-etl-project.c2supt4qfmve.us-east-2.rds.amazonaws.com"
   ]
  },
  {
   "cell_type": "code",
   "execution_count": null,
   "metadata": {},
   "outputs": [],
   "source": [
    "engine = create_engine(f\"mysql://{remote_gwsis_dbuser}:{remote_gwsis_dbpwd}@{remote_db_endpoint}:{remote_db_port}/{remote_gwsis_dbname}\")\n",
    "conn = engine.connect()"
   ]
  },
  {
   "cell_type": "code",
   "execution_count": null,
   "metadata": {},
   "outputs": [],
   "source": [
    "team_df = pd.read_csv(\"Teams.csv\")\n",
    "teams_load = team_df\n",
    "teams_load.to_sql(name='Teams', if_exists='append', con=conn, chunksize=500, index=False)"
   ]
  },
  {
   "cell_type": "code",
   "execution_count": null,
   "metadata": {},
   "outputs": [],
   "source": [
    "subs_df = pd.read_csv(\"TeamsSubs.csv\")\n",
    "subs_load = subs_df\n",
    "subs_load.to_sql(name='Subscribers', if_exists='append', con=conn, chunksize=500, index=False)"
   ]
  },
  {
   "cell_type": "code",
   "execution_count": null,
   "metadata": {},
   "outputs": [],
   "source": [
    "values_df = pd.read_csv(\"TeamsSubsValues.csv\")\n",
    "values_load = values_df\n",
    "values_load.to_sql(name='Valuations', if_exists='append', con=conn, chunksize=500, index=False)"
   ]
  },
  {
   "cell_type": "code",
   "execution_count": null,
   "metadata": {},
   "outputs": [],
   "source": [
    "pops_df = pd.read_csv(\"TeamsSubsValuesPops.csv\")\n",
    "pops_load = pops_df\n",
    "pops_load.to_sql(name='Populations', if_exists='append', con=conn, chunksize=500, index=False)"
   ]
  },
  {
   "cell_type": "code",
   "execution_count": null,
   "metadata": {},
   "outputs": [],
   "source": [
    "final_df = pd.read_csv(\"TeamsSubsValuesPopsAges.csv\")\n",
    "final_load = final_df\n",
    "final_load.to_sql(name='Final', if_exists='append', con=conn, chunksize=500, index=False)"
   ]
  },
  {
   "cell_type": "markdown",
   "metadata": {},
   "source": [
    "# Loading to Salesforce"
   ]
  },
  {
   "cell_type": "code",
   "execution_count": null,
   "metadata": {},
   "outputs": [],
   "source": [
    "import requests\n",
    "import base64\n",
    "from base64 import b64encode \n",
    "import json\n",
    "from sqlalchemy import create_engine\n",
    "import pymysql\n",
    "pymysql.install_as_MySQLdb()\n",
    "import pandas as pd\n",
    "\n",
    "from config import remote_db_endpoint, remote_db_port\n",
    "from config import remote_gwsis_dbname, remote_gwsis_dbuser, remote_gwsis_dbpwd\n",
    "\n",
    "from config import sf_grant_type, sf_client_id, sf_client_secret, sf_username, sf_password, sf_endpoint"
   ]
  },
  {
   "cell_type": "code",
   "execution_count": null,
   "metadata": {},
   "outputs": [],
   "source": [
    "params = {\n",
    "    \"grant_type\": sf_grant_type,\n",
    "    \"client_id\": sf_client_id, # Consumer Key\n",
    "    \"client_secret\": sf_client_secret, # Consumer Secret\n",
    "    \"username\": sf_username, # The email you use to login\n",
    "    \"password\": sf_password # Concat your password and your security token\n",
    "}\n",
    "\n",
    "r = requests.post(sf_endpoint, params=params)\n",
    "access_token = r.json().get(\"access_token\")\n",
    "instance_url = r.json().get(\"instance_url\")\n",
    "print(\"Access Token:\", access_token)\n",
    "print(\"Instance URL\", instance_url)"
   ]
  },
  {
   "cell_type": "code",
   "execution_count": null,
   "metadata": {},
   "outputs": [],
   "source": [
    "def sf_api_call(action, parameters = {}, method = \"get\", data = {}):\n",
    "    # Helper function to make calls to Salesforce REST API.\n",
    "    # Parameters: action (the URL), URL params, method (get, post or patch),\n",
    "    # data for POST/PATCH.\n",
    "    headers = {\n",
    "        'Content-type': 'application/json',\n",
    "        'Accept-Encoding': 'gzip',\n",
    "        'Authorization': 'Bearer %s' % access_token\n",
    "    }\n",
    "    if method == 'get':\n",
    "        r = requests.request(method, instance_url+action, headers=headers, params=parameters)\n",
    "    elif method in ['post', 'patch']:\n",
    "        r = requests.request(method, instance_url+action, headers=headers, json=data, params=parameters)\n",
    "    else:\n",
    "        # other methods not implemented in this example\n",
    "        raise ValueError('Method should be get or post or patch.')\n",
    "    print('Debug: API %s call: %s' % (method, r.url) )\n",
    "    if r.status_code < 300:\n",
    "        if method=='patch':\n",
    "            return None\n",
    "        else:\n",
    "            return r.json()\n",
    "    else:\n",
    "        raise Exception('API error when calling %s : %s' % (r.url, r.content))"
   ]
  },
  {
   "cell_type": "code",
   "execution_count": null,
   "metadata": {},
   "outputs": [],
   "source": []
  },
  {
   "cell_type": "code",
   "execution_count": null,
   "metadata": {},
   "outputs": [],
   "source": [
    "engine = create_engine(f\"mysql://{remote_gwsis_dbuser}:{remote_gwsis_dbpwd}@{remote_db_endpoint}:{remote_db_port}/{remote_gwsis_dbname}\")\n",
    "conn = engine.connect()"
   ]
  },
  {
   "cell_type": "code",
   "execution_count": null,
   "metadata": {},
   "outputs": [],
   "source": [
    "NFL_data = pd.read_sql(\"SELECT * FROM Final\", conn)\n",
    "NFL_data.head(32)"
   ]
  },
  {
   "cell_type": "code",
   "execution_count": null,
   "metadata": {},
   "outputs": [],
   "source": [
    "for index, row in NFL_data.iterrows():\n",
    "    call = sf_api_call('/services/data/v40.0/sobjects/NFL_Data__c/', method=\"post\", data={\n",
    "        'Subscribers__c': row['Subs'],\n",
    "        'Team__c': row['Team'],\n",
    "        'Stadium_City__c': row['Stadium City'],\n",
    "        'Real_City__c': row['Real City'],\n",
    "        'Value_B__c': row['Value ($B)'],\n",
    "        'Revenue_M__c': row['Revenue ($M)'],\n",
    "        'Operating_Income_M__c': row['Operating Income ($M)'],\n",
    "        'Population_2016__c': row['Population (2016)'],\n",
    "        'Team_Age__c': row['Team Age']\n",
    "    })"
   ]
  }
 ],
 "metadata": {
  "kernelspec": {
   "display_name": "Python 3",
   "language": "python",
   "name": "python3"
  },
  "language_info": {
   "codemirror_mode": {
    "name": "ipython",
    "version": 3
   },
   "file_extension": ".py",
   "mimetype": "text/x-python",
   "name": "python",
   "nbconvert_exporter": "python",
   "pygments_lexer": "ipython3",
   "version": "3.7.0"
  }
 },
 "nbformat": 4,
 "nbformat_minor": 2
}
