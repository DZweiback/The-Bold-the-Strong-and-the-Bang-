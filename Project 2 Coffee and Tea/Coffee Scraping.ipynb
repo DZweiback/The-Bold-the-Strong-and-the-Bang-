{
 "cells": [
  {
   "cell_type": "code",
   "execution_count": 15,
   "metadata": {},
   "outputs": [],
   "source": [
    "#import requests\n",
    "from bs4 import BeautifulSoup as bs\n",
    "from splinter import Browser\n",
    "import pandas as pd\n",
    "import time\n",
    "import datetime\n",
    "import urllib.request\n",
    "#import selenium\n",
    "#import webdriver"
   ]
  },
  {
   "cell_type": "code",
   "execution_count": 16,
   "metadata": {},
   "outputs": [],
   "source": [
    "# WINDOWS/PC - Import splinter and set the cromedriver path\n",
    "executable_path = {'executable_path': 'chromedriver.exe'}\n",
    "browser = Browser('chrome', **executable_path, headless=False)\n",
    "\n",
    "# MAC - Import splinter and set the cromedriver path\n",
    "# executable_path = {'executable_path': '/usr/local/bin/chromedriver'}\n",
    "# browser = Browser('chrome', **executable_path, headless=False)"
   ]
  },
  {
   "cell_type": "markdown",
   "metadata": {},
   "source": [
    "# Scraping Websites for Four Types of Coffee Beans"
   ]
  },
  {
   "cell_type": "code",
   "execution_count": 3,
   "metadata": {},
   "outputs": [],
   "source": [
    "beans = []\n",
    "plant = []"
   ]
  },
  {
   "cell_type": "code",
   "execution_count": 6,
   "metadata": {},
   "outputs": [
    {
     "name": "stdout",
     "output_type": "stream",
     "text": [
      "Arabica (Coffea arabica)\n",
      "Coffea arabica\n",
      "Robusta (Coffea caniphora)\n",
      "Coffea caniphora\n",
      "Liberica (Coffea liberica)\n",
      "Coffea liberica\n",
      "Excelsa (Coffea excelsa or Coffea liberica var. dewevrei)\n",
      "Coffea excelsa\n",
      "Coffea liberica var. dewevrei\n"
     ]
    }
   ],
   "source": [
    "# Scaping webpage #1 - COFFEE CULTURE\n",
    "url = f\"https://club.atlascoffeeclub.com/4-main-types-of-coffee-beans/\"\n",
    "browser.visit(url)\n",
    "time.sleep(1)\n",
    "html = browser.html\n",
    "soup = bs(html, \"html.parser\")  #same as soup = bs(page.txt, 'html.parser') \n",
    "section = soup.find(class_=\"cb-entry-content\")\n",
    "beanName = section.find_all(\"h3\")\n",
    "     \n",
    "for b in beanName:\n",
    "    print(b.text)\n",
    "    for em in b.find_all('em'):\n",
    "        print(em.text)\n",
    "    \n",
    "# Append each item to a list    \n",
    "    beans.append(b.text.split(\" \")[0])\n",
    "    plant.append(em.text)"
   ]
  },
  {
   "cell_type": "code",
   "execution_count": 7,
   "metadata": {},
   "outputs": [
    {
     "data": {
      "text/html": [
       "<div>\n",
       "<style scoped>\n",
       "    .dataframe tbody tr th:only-of-type {\n",
       "        vertical-align: middle;\n",
       "    }\n",
       "\n",
       "    .dataframe tbody tr th {\n",
       "        vertical-align: top;\n",
       "    }\n",
       "\n",
       "    .dataframe thead th {\n",
       "        text-align: right;\n",
       "    }\n",
       "</style>\n",
       "<table border=\"1\" class=\"dataframe\">\n",
       "  <thead>\n",
       "    <tr style=\"text-align: right;\">\n",
       "      <th></th>\n",
       "      <th>0</th>\n",
       "      <th>1</th>\n",
       "    </tr>\n",
       "  </thead>\n",
       "  <tbody>\n",
       "    <tr>\n",
       "      <th>0</th>\n",
       "      <td>Arabica</td>\n",
       "      <td>Coffea arabica</td>\n",
       "    </tr>\n",
       "    <tr>\n",
       "      <th>1</th>\n",
       "      <td>Robusta</td>\n",
       "      <td>Coffea caniphora</td>\n",
       "    </tr>\n",
       "    <tr>\n",
       "      <th>2</th>\n",
       "      <td>Liberica</td>\n",
       "      <td>Coffea liberica</td>\n",
       "    </tr>\n",
       "    <tr>\n",
       "      <th>3</th>\n",
       "      <td>Excelsa</td>\n",
       "      <td>Coffea liberica var. dewevrei</td>\n",
       "    </tr>\n",
       "  </tbody>\n",
       "</table>\n",
       "</div>"
      ],
      "text/plain": [
       "          0                              1\n",
       "0   Arabica                 Coffea arabica\n",
       "1   Robusta               Coffea caniphora\n",
       "2  Liberica                Coffea liberica\n",
       "3   Excelsa  Coffea liberica var. dewevrei"
      ]
     },
     "execution_count": 7,
     "metadata": {},
     "output_type": "execute_result"
    }
   ],
   "source": [
    "# Put into a dataframe\n",
    "beanName_df = pd.DataFrame([beans, plant]).T\n",
    "beanName_df "
   ]
  },
  {
   "cell_type": "code",
   "execution_count": 8,
   "metadata": {},
   "outputs": [
    {
     "data": {
      "text/html": [
       "<div>\n",
       "<style scoped>\n",
       "    .dataframe tbody tr th:only-of-type {\n",
       "        vertical-align: middle;\n",
       "    }\n",
       "\n",
       "    .dataframe tbody tr th {\n",
       "        vertical-align: top;\n",
       "    }\n",
       "\n",
       "    .dataframe thead th {\n",
       "        text-align: right;\n",
       "    }\n",
       "</style>\n",
       "<table border=\"1\" class=\"dataframe\">\n",
       "  <thead>\n",
       "    <tr style=\"text-align: right;\">\n",
       "      <th></th>\n",
       "      <th>0</th>\n",
       "    </tr>\n",
       "  </thead>\n",
       "  <tbody>\n",
       "    <tr>\n",
       "      <th>0</th>\n",
       "      <td>In this article, we will introduce and identif...</td>\n",
       "    </tr>\n",
       "    <tr>\n",
       "      <th>1</th>\n",
       "      <td>You’re probably already familiar with this com...</td>\n",
       "    </tr>\n",
       "    <tr>\n",
       "      <th>2</th>\n",
       "      <td>Arabica is the more delicate of the 4. It is e...</td>\n",
       "    </tr>\n",
       "    <tr>\n",
       "      <th>3</th>\n",
       "      <td>Higher quality Arabica beans have a bright bod...</td>\n",
       "    </tr>\n",
       "    <tr>\n",
       "      <th>4</th>\n",
       "      <td>Note that the quality of the Arabica bean dimi...</td>\n",
       "    </tr>\n",
       "    <tr>\n",
       "      <th>5</th>\n",
       "      <td>Other popular varietals of Arabica coffee are:...</td>\n",
       "    </tr>\n",
       "    <tr>\n",
       "      <th>6</th>\n",
       "      <td>You’ve also probably heard of Robusta as it co...</td>\n",
       "    </tr>\n",
       "    <tr>\n",
       "      <th>7</th>\n",
       "      <td>Its name is no coincidence. The Robusta variet...</td>\n",
       "    </tr>\n",
       "    <tr>\n",
       "      <th>8</th>\n",
       "      <td>When drinking, Robusta coffee is best sampled ...</td>\n",
       "    </tr>\n",
       "    <tr>\n",
       "      <th>9</th>\n",
       "      <td>This is a perfect coffee for cream and sugar l...</td>\n",
       "    </tr>\n",
       "    <tr>\n",
       "      <th>10</th>\n",
       "      <td>Liberica is harder to come by in the coffee wo...</td>\n",
       "    </tr>\n",
       "    <tr>\n",
       "      <th>11</th>\n",
       "      <td>In 1890, coffee rust decimated over 90% of the...</td>\n",
       "    </tr>\n",
       "    <tr>\n",
       "      <th>12</th>\n",
       "      <td>However, a spat between the U.S. and the Phili...</td>\n",
       "    </tr>\n",
       "    <tr>\n",
       "      <th>13</th>\n",
       "      <td>Liberica beans are larger than the others, oft...</td>\n",
       "    </tr>\n",
       "    <tr>\n",
       "      <th>14</th>\n",
       "      <td>Although Excelsa has been recently re-classifi...</td>\n",
       "    </tr>\n",
       "    <tr>\n",
       "      <th>15</th>\n",
       "      <td>Excelsa grows mostly in Southeast Asia and acc...</td>\n",
       "    </tr>\n",
       "    <tr>\n",
       "      <th>16</th>\n",
       "      <td></td>\n",
       "    </tr>\n",
       "  </tbody>\n",
       "</table>\n",
       "</div>"
      ],
      "text/plain": [
       "                                                    0\n",
       "0   In this article, we will introduce and identif...\n",
       "1   You’re probably already familiar with this com...\n",
       "2   Arabica is the more delicate of the 4. It is e...\n",
       "3   Higher quality Arabica beans have a bright bod...\n",
       "4   Note that the quality of the Arabica bean dimi...\n",
       "5   Other popular varietals of Arabica coffee are:...\n",
       "6   You’ve also probably heard of Robusta as it co...\n",
       "7   Its name is no coincidence. The Robusta variet...\n",
       "8   When drinking, Robusta coffee is best sampled ...\n",
       "9   This is a perfect coffee for cream and sugar l...\n",
       "10  Liberica is harder to come by in the coffee wo...\n",
       "11  In 1890, coffee rust decimated over 90% of the...\n",
       "12  However, a spat between the U.S. and the Phili...\n",
       "13  Liberica beans are larger than the others, oft...\n",
       "14  Although Excelsa has been recently re-classifi...\n",
       "15  Excelsa grows mostly in Southeast Asia and acc...\n",
       "16                                                   "
      ]
     },
     "execution_count": 8,
     "metadata": {},
     "output_type": "execute_result"
    }
   ],
   "source": [
    "# Page 1 Scrape for Descriptions - Put paragraph text into a list and dataframe\n",
    "\n",
    "textContent1 = []\n",
    "#beanType =[]\n",
    "#a = \"Arabica\"\n",
    "\n",
    "for text1 in section.find_all('p'):\n",
    "    p1 = text1.get_text()\n",
    "    textContent1.append(p1)\n",
    "    #beanType.append(a)\n",
    "#print(textContent1)  \n",
    "textContent1_df = pd.DataFrame([textContent1]).T\n",
    "textContent1_df     "
   ]
  },
  {
   "cell_type": "code",
   "execution_count": null,
   "metadata": {},
   "outputs": [],
   "source": [
    "# Page 1 - Alternative Code Scrape for descriptions - Put paragraph text into a list and dataframe\n",
    "#textContent1 = []\n",
    "#paragraphs = soup.find_all('p')\n",
    "#print(paragraphs)\n",
    "#for p1 in paragraphs:\n",
    "    #print(p1.text)\n",
    "    #textContent1.append(p2.text)\n",
    "#print(textContent1)\n",
    " \n",
    "# Put into a dataframe\n",
    "#textContent1_df = pd.DataFrame([textContent1]).T\n",
    "#textContent1_df     "
   ]
  },
  {
   "cell_type": "code",
   "execution_count": 10,
   "metadata": {},
   "outputs": [
    {
     "data": {
      "text/html": [
       "<div>\n",
       "<style scoped>\n",
       "    .dataframe tbody tr th:only-of-type {\n",
       "        vertical-align: middle;\n",
       "    }\n",
       "\n",
       "    .dataframe tbody tr th {\n",
       "        vertical-align: top;\n",
       "    }\n",
       "\n",
       "    .dataframe thead th {\n",
       "        text-align: right;\n",
       "    }\n",
       "</style>\n",
       "<table border=\"1\" class=\"dataframe\">\n",
       "  <thead>\n",
       "    <tr style=\"text-align: right;\">\n",
       "      <th></th>\n",
       "      <th>0</th>\n",
       "    </tr>\n",
       "  </thead>\n",
       "  <tbody>\n",
       "    <tr>\n",
       "      <th>0</th>\n",
       "      <td>Knowing the different types of coffee species ...</td>\n",
       "    </tr>\n",
       "    <tr>\n",
       "      <th>1</th>\n",
       "      <td>In this week’s feature, we show you the differ...</td>\n",
       "    </tr>\n",
       "    <tr>\n",
       "      <th>2</th>\n",
       "      <td>COFFEE SPECIES</td>\n",
       "    </tr>\n",
       "    <tr>\n",
       "      <th>3</th>\n",
       "      <td>There are actually around a hundred species of...</td>\n",
       "    </tr>\n",
       "    <tr>\n",
       "      <th>4</th>\n",
       "      <td></td>\n",
       "    </tr>\n",
       "    <tr>\n",
       "      <th>5</th>\n",
       "      <td>ARABICA: Arabica trees are grown in high altit...</td>\n",
       "    </tr>\n",
       "    <tr>\n",
       "      <th>6</th>\n",
       "      <td>Farmers must take note that growing Arabica tr...</td>\n",
       "    </tr>\n",
       "    <tr>\n",
       "      <th>7</th>\n",
       "      <td>Arabica appeals to people who would like to st...</td>\n",
       "    </tr>\n",
       "    <tr>\n",
       "      <th>8</th>\n",
       "      <td></td>\n",
       "    </tr>\n",
       "    <tr>\n",
       "      <th>9</th>\n",
       "      <td>ROBUSTA: Following Arabica in the most commerc...</td>\n",
       "    </tr>\n",
       "    <tr>\n",
       "      <th>10</th>\n",
       "      <td>Because it’s easy to grow and has a bold flavo...</td>\n",
       "    </tr>\n",
       "    <tr>\n",
       "      <th>11</th>\n",
       "      <td>If you’re the type of person who prefers to st...</td>\n",
       "    </tr>\n",
       "    <tr>\n",
       "      <th>12</th>\n",
       "      <td></td>\n",
       "    </tr>\n",
       "    <tr>\n",
       "      <th>13</th>\n",
       "      <td>EXCELSA: Excelsa accounts for 7% of the world’...</td>\n",
       "    </tr>\n",
       "    <tr>\n",
       "      <th>14</th>\n",
       "      <td>Pure excelsa coffee has a unique and compellin...</td>\n",
       "    </tr>\n",
       "    <tr>\n",
       "      <th>15</th>\n",
       "      <td></td>\n",
       "    </tr>\n",
       "    <tr>\n",
       "      <th>16</th>\n",
       "      <td>LIBERICA: Liberica trees grow into 20 – 30-foo...</td>\n",
       "    </tr>\n",
       "    <tr>\n",
       "      <th>17</th>\n",
       "      <td>It has a floral, fruity, and smokey profile wi...</td>\n",
       "    </tr>\n",
       "    <tr>\n",
       "      <th>18</th>\n",
       "      <td></td>\n",
       "    </tr>\n",
       "    <tr>\n",
       "      <th>19</th>\n",
       "      <td>IN A NUTSHELL</td>\n",
       "    </tr>\n",
       "    <tr>\n",
       "      <th>20</th>\n",
       "      <td>Which type of coffee appeals to you more? Have...</td>\n",
       "    </tr>\n",
       "    <tr>\n",
       "      <th>21</th>\n",
       "      <td></td>\n",
       "    </tr>\n",
       "  </tbody>\n",
       "</table>\n",
       "</div>"
      ],
      "text/plain": [
       "                                                    0\n",
       "0   Knowing the different types of coffee species ...\n",
       "1   In this week’s feature, we show you the differ...\n",
       "2                                      COFFEE SPECIES\n",
       "3   There are actually around a hundred species of...\n",
       "4                                                    \n",
       "5   ARABICA: Arabica trees are grown in high altit...\n",
       "6   Farmers must take note that growing Arabica tr...\n",
       "7   Arabica appeals to people who would like to st...\n",
       "8                                                    \n",
       "9   ROBUSTA: Following Arabica in the most commerc...\n",
       "10  Because it’s easy to grow and has a bold flavo...\n",
       "11  If you’re the type of person who prefers to st...\n",
       "12                                                   \n",
       "13  EXCELSA: Excelsa accounts for 7% of the world’...\n",
       "14  Pure excelsa coffee has a unique and compellin...\n",
       "15                                                   \n",
       "16  LIBERICA: Liberica trees grow into 20 – 30-foo...\n",
       "17  It has a floral, fruity, and smokey profile wi...\n",
       "18                                                   \n",
       "19                                      IN A NUTSHELL\n",
       "20  Which type of coffee appeals to you more? Have...\n",
       "21                                                   "
      ]
     },
     "execution_count": 10,
     "metadata": {},
     "output_type": "execute_result"
    }
   ],
   "source": [
    "# Webpage #2 A Closer Look at Different Coffee Species\n",
    "\n",
    "url = f\"http://coffeerama.com/closer-look-different-coffee-species/\"\n",
    "browser.visit(url)\n",
    "time.sleep(1)\n",
    "html = browser.html\n",
    "soup2 = bs(html, \"html.parser\")  #same as soup = bs(page.txt, 'html.parser') \n",
    "section2 = soup2.find(class_=\"post-entry\")\n",
    "\n",
    "textContent2 = []\n",
    "\n",
    "for text2 in section2.find_all('p'):\n",
    "    p2 = text2.get_text()\n",
    "    textContent2.append(p2)\n",
    "#print(textContent2)  \n",
    "\n",
    "textContent2_df = pd.DataFrame([textContent2]).T\n",
    "textContent2_df     "
   ]
  },
  {
   "cell_type": "markdown",
   "metadata": {},
   "source": [
    "# Scraping Images"
   ]
  },
  {
   "cell_type": "code",
   "execution_count": 11,
   "metadata": {},
   "outputs": [
    {
     "name": "stdout",
     "output_type": "stream",
     "text": [
      "https://club.atlascoffeeclub.com/wp-content/uploads/2017/09/4typesofcoffee-622x400.jpg\n"
     ]
    }
   ],
   "source": [
    "# Scrape Image showing 4 Types of Coffee Beans\n",
    "\n",
    "beanPics = []\n",
    "beanPics = soup.find_all('header', id='cb-standard-featured')\n",
    "\n",
    "for beanPic in beanPics:\n",
    "    #print(beanPic)\n",
    "    for img in beanPic.find_all('img'):\n",
    "        print(img.get('src'))"
   ]
  },
  {
   "cell_type": "code",
   "execution_count": 12,
   "metadata": {},
   "outputs": [
    {
     "name": "stdout",
     "output_type": "stream",
     "text": [
      "Here’s a quick infographic about the different coffee species. Each type of coffee is grown differently, and produces different flavors. There’s a lot that goes into your cup of coffee, and it all starts in a farm. If you want to take a closer look to the different coffee species, check out this Coffeerama feature.\n",
      "http://34.206.52.89/wp-content/uploads/2017/06/CoffeeSpeciesInfographic-1.jpg\n"
     ]
    }
   ],
   "source": [
    "# Scape Image showing Infographics for 4 Types of Species\n",
    "\n",
    "url = f\"http://coffeerama.com/infographic-types-coffee-species/\"\n",
    "browser.visit(url)\n",
    "time.sleep(1)\n",
    "html = browser.html\n",
    "infographicSoup = bs(html, \"html.parser\")  #same as soup = bs(page.txt, 'html.parser') \n",
    "\n",
    "beanPics2 = infographicSoup.find_all('div', class_='post-entry')\n",
    "for beanPic2 in beanPics2:\n",
    "    print(beanPic2.p.text)\n",
    "    for img2 in beanPic2.find_all('img'):\n",
    "        print(img2.get('src'))"
   ]
  },
  {
   "cell_type": "code",
   "execution_count": 13,
   "metadata": {},
   "outputs": [
    {
     "name": "stdout",
     "output_type": "stream",
     "text": [
      "http://coffeerama.com/wp-content/uploads/2017/10/iced-coffee-520x400.jpg\n",
      "http://coffeerama.com/wp-content/uploads/2017/11/nathan-dumlao-264380-520x400.jpg\n",
      "http://coffeerama.com/wp-content/uploads/2017/09/kapengpinoy-520x400.jpg\n",
      "http://coffeerama.com/wp-content/uploads/2017/09/coffee-tree-520x400.jpg\n",
      "http://coffeerama.com/wp-content/uploads/2017/08/Screen-Shot-2017-08-21-at-2.26.53-PM-520x400.png\n",
      "http://coffeerama.com/wp-content/uploads/2017/07/Screen-Shot-2017-07-26-at-8.19.27-AM-520x400.png\n",
      "http://coffeerama.com/wp-content/uploads/2017/07/Screen-Shot-2017-07-22-at-12.21.01-PM-1-520x400.png\n",
      "http://coffeerama.com/wp-content/uploads/2017/07/coffee-beans-520x400.jpg\n",
      "http://coffeerama.com/wp-content/uploads/2017/05/composite-image-of-coffee-cup-graphic-520x400.jpg\n",
      "http://coffeerama.com/wp-content/uploads/2017/03/coffee-plant-red-coffee-beans-on-a-branch-of-coffee-tree-520x400.jpg\n"
     ]
    }
   ],
   "source": [
    "# Scrape Webpage #5 for All Other Images\n",
    "\n",
    "url = f\"http://coffeerama.com/category/bean/\"\n",
    "browser.visit(url)\n",
    "time.sleep(1)\n",
    "html = browser.html\n",
    "soup3 = bs(html, \"html.parser\")  #same as soup = bs(page.txt, 'html.parser') \n",
    "imagesSoup = soup3.find('ul', class_='sp-grid')\n",
    "\n",
    "images = []\n",
    "images = imagesSoup.findAll('img')\n",
    "for image in images:\n",
    "    print(image.get('src'))    "
   ]
  },
  {
   "cell_type": "markdown",
   "metadata": {},
   "source": [
    "# Scaping Video Link for Each Type of Coffee Bean"
   ]
  },
  {
   "cell_type": "code",
   "execution_count": 17,
   "metadata": {},
   "outputs": [
    {
     "data": {
      "text/html": [
       "<div>\n",
       "<style scoped>\n",
       "    .dataframe tbody tr th:only-of-type {\n",
       "        vertical-align: middle;\n",
       "    }\n",
       "\n",
       "    .dataframe tbody tr th {\n",
       "        vertical-align: top;\n",
       "    }\n",
       "\n",
       "    .dataframe thead th {\n",
       "        text-align: right;\n",
       "    }\n",
       "</style>\n",
       "<table border=\"1\" class=\"dataframe\">\n",
       "  <thead>\n",
       "    <tr style=\"text-align: right;\">\n",
       "      <th></th>\n",
       "      <th>0</th>\n",
       "    </tr>\n",
       "  </thead>\n",
       "  <tbody>\n",
       "    <tr>\n",
       "      <th>0</th>\n",
       "      <td></td>\n",
       "    </tr>\n",
       "    <tr>\n",
       "      <th>1</th>\n",
       "      <td>The Arabica coffee bean is like the mother of ...</td>\n",
       "    </tr>\n",
       "    <tr>\n",
       "      <th>2</th>\n",
       "      <td></td>\n",
       "    </tr>\n",
       "    <tr>\n",
       "      <th>3</th>\n",
       "      <td>The origin of the Arabica Coffee dates back to...</td>\n",
       "    </tr>\n",
       "    <tr>\n",
       "      <th>4</th>\n",
       "      <td>In the 7th century, the Arabica beans grew fro...</td>\n",
       "    </tr>\n",
       "    <tr>\n",
       "      <th>5</th>\n",
       "      <td>Arabica has a mild taste and based on regular ...</td>\n",
       "    </tr>\n",
       "    <tr>\n",
       "      <th>6</th>\n",
       "      <td>The Arabica coffee beans cannot grow on harsh ...</td>\n",
       "    </tr>\n",
       "    <tr>\n",
       "      <th>7</th>\n",
       "      <td>The flowers of the Arabica plant are usually s...</td>\n",
       "    </tr>\n",
       "    <tr>\n",
       "      <th>8</th>\n",
       "      <td>The arabica plant grows perfectly in tropical ...</td>\n",
       "    </tr>\n",
       "    <tr>\n",
       "      <th>9</th>\n",
       "      <td>Benefits of Arabica Coffee\\nArabica coffee bea...</td>\n",
       "    </tr>\n",
       "    <tr>\n",
       "      <th>10</th>\n",
       "      <td>There are a lot of Arabica coffee brands in th...</td>\n",
       "    </tr>\n",
       "  </tbody>\n",
       "</table>\n",
       "</div>"
      ],
      "text/plain": [
       "                                                    0\n",
       "0                                                    \n",
       "1   The Arabica coffee bean is like the mother of ...\n",
       "2                                                    \n",
       "3   The origin of the Arabica Coffee dates back to...\n",
       "4   In the 7th century, the Arabica beans grew fro...\n",
       "5   Arabica has a mild taste and based on regular ...\n",
       "6   The Arabica coffee beans cannot grow on harsh ...\n",
       "7   The flowers of the Arabica plant are usually s...\n",
       "8   The arabica plant grows perfectly in tropical ...\n",
       "9   Benefits of Arabica Coffee\\nArabica coffee bea...\n",
       "10  There are a lot of Arabica coffee brands in th..."
      ]
     },
     "execution_count": 17,
     "metadata": {},
     "output_type": "execute_result"
    }
   ],
   "source": [
    "# Webpage #6 - for Arabaica Details\n",
    "\n",
    "#video6 = <iframe width=\"560\" height=\"315\" src=\"https://www.youtube.com/embed/4zA_LuwsvEs\" frameborder=\"0\" allow=\"accelerometer; autoplay; encrypted-media; gyroscope; picture-in-picture\" allowfullscreen></iframe>\n",
    "#video6_src = <iframe src=\"https://www.youtube.com/embed/4zA_LuwsvEs\" width=\"560\" height=\"315\" frameborder=\"0\" allowfullscreen=\"allowfullscreen\"></iframe>\n",
    "\n",
    "\n",
    "url = f\"https://coffeemakershopping.com/introduction-to-coffee-arabica-beans/\"\n",
    "browser.visit(url)\n",
    "time.sleep(1)\n",
    "html = browser.html\n",
    "soup6 = bs(html, \"html.parser\")  #same as soup = bs(page.txt, 'html.parser') \n",
    "section6 = soup6.find('div', class_=\"entry-content\")\n",
    "\n",
    "textContent6 = []\n",
    "\n",
    "for text6 in section6.find_all('p'):\n",
    "    p6 = text6.get_text()\n",
    "    textContent6.append(p6)\n",
    "#print(textContent6)  \n",
    "\n",
    "textContent6_df = pd.DataFrame([textContent6]).T\n",
    "textContent6_df     \n"
   ]
  },
  {
   "cell_type": "code",
   "execution_count": 21,
   "metadata": {},
   "outputs": [
    {
     "data": {
      "text/html": [
       "<div>\n",
       "<style scoped>\n",
       "    .dataframe tbody tr th:only-of-type {\n",
       "        vertical-align: middle;\n",
       "    }\n",
       "\n",
       "    .dataframe tbody tr th {\n",
       "        vertical-align: top;\n",
       "    }\n",
       "\n",
       "    .dataframe thead th {\n",
       "        text-align: right;\n",
       "    }\n",
       "</style>\n",
       "<table border=\"1\" class=\"dataframe\">\n",
       "  <thead>\n",
       "    <tr style=\"text-align: right;\">\n",
       "      <th></th>\n",
       "      <th>0</th>\n",
       "    </tr>\n",
       "  </thead>\n",
       "  <tbody>\n",
       "    <tr>\n",
       "      <th>0</th>\n",
       "      <td></td>\n",
       "    </tr>\n",
       "    <tr>\n",
       "      <th>1</th>\n",
       "      <td>The Robusta coffee bean is the world’s second ...</td>\n",
       "    </tr>\n",
       "    <tr>\n",
       "      <th>2</th>\n",
       "      <td></td>\n",
       "    </tr>\n",
       "    <tr>\n",
       "      <th>3</th>\n",
       "      <td>The origins of Robusta coffee can be traced in...</td>\n",
       "    </tr>\n",
       "    <tr>\n",
       "      <th>4</th>\n",
       "      <td>Robusta is commonly grown in the Eastern Hemis...</td>\n",
       "    </tr>\n",
       "    <tr>\n",
       "      <th>5</th>\n",
       "      <td>As we mentioned earlier, the Robusta beans hav...</td>\n",
       "    </tr>\n",
       "    <tr>\n",
       "      <th>6</th>\n",
       "      <td>The Robusta plant grows perfectly in warmer cl...</td>\n",
       "    </tr>\n",
       "    <tr>\n",
       "      <th>7</th>\n",
       "      <td>If you see these countries listed as a source ...</td>\n",
       "    </tr>\n",
       "    <tr>\n",
       "      <th>8</th>\n",
       "      <td>Now, do you want to give robusta a try? Take ...</td>\n",
       "    </tr>\n",
       "  </tbody>\n",
       "</table>\n",
       "</div>"
      ],
      "text/plain": [
       "                                                   0\n",
       "0                                                   \n",
       "1  The Robusta coffee bean is the world’s second ...\n",
       "2                                                   \n",
       "3  The origins of Robusta coffee can be traced in...\n",
       "4  Robusta is commonly grown in the Eastern Hemis...\n",
       "5  As we mentioned earlier, the Robusta beans hav...\n",
       "6  The Robusta plant grows perfectly in warmer cl...\n",
       "7  If you see these countries listed as a source ...\n",
       "8   Now, do you want to give robusta a try? Take ..."
      ]
     },
     "execution_count": 21,
     "metadata": {},
     "output_type": "execute_result"
    }
   ],
   "source": [
    "# webpage #7 - for Robusta Details\n",
    "#https://coffeemakershopping.com/introduction-to-coffee-robusta-beans/\n",
    "\n",
    "#video7_code = <iframe width=\"560\" height=\"315\" src=\"https://www.youtube.com/embed/k2w07Mjv-DE\" frameborder=\"0\" allow=\"accelerometer; autoplay; encrypted-media; gyroscope; picture-in-picture\" allowfullscreen></iframe>\n",
    "#video7__src = <iframe src=\"https://www.youtube.com/embed/k2w07Mjv-DE\" width=\"560\" height=\"315\" frameborder=\"0\" allowfullscreen=\"allowfullscreen\"></iframe>\n",
    "#video7_ref = <a class=\"ytp-title-link yt-uix-sessionlink\" target=\"_blank\" data-sessionlink=\"feature=player-title\" href=\"https://www.youtube.com/watch?v=k2w07Mjv-DE\">Introduction to Coffee Robusta Beans</a>\n",
    "\n",
    "\n",
    "url = f\"https://coffeemakershopping.com/introduction-to-coffee-robusta-beans/\"\n",
    "browser.visit(url)\n",
    "time.sleep(1)\n",
    "html = browser.html\n",
    "soup7 = bs(html, \"html.parser\")  #same as soup = bs(page.txt, 'html.parser') \n",
    "section7 = soup7.find('div', class_=\"entry-content\")\n",
    "\n",
    "textContent7 = []\n",
    "\n",
    "for text7 in section7.find_all('p'):\n",
    "    p7 = text7.get_text()\n",
    "    textContent7.append(p7)\n",
    "#print(textContent7)  \n",
    "\n",
    "textContent7_df = pd.DataFrame([textContent7]).T\n",
    "textContent7_df     \n",
    "\n"
   ]
  },
  {
   "cell_type": "code",
   "execution_count": 22,
   "metadata": {},
   "outputs": [
    {
     "data": {
      "text/html": [
       "<div>\n",
       "<style scoped>\n",
       "    .dataframe tbody tr th:only-of-type {\n",
       "        vertical-align: middle;\n",
       "    }\n",
       "\n",
       "    .dataframe tbody tr th {\n",
       "        vertical-align: top;\n",
       "    }\n",
       "\n",
       "    .dataframe thead th {\n",
       "        text-align: right;\n",
       "    }\n",
       "</style>\n",
       "<table border=\"1\" class=\"dataframe\">\n",
       "  <thead>\n",
       "    <tr style=\"text-align: right;\">\n",
       "      <th></th>\n",
       "      <th>0</th>\n",
       "    </tr>\n",
       "  </thead>\n",
       "  <tbody>\n",
       "    <tr>\n",
       "      <th>0</th>\n",
       "      <td></td>\n",
       "    </tr>\n",
       "    <tr>\n",
       "      <th>1</th>\n",
       "      <td></td>\n",
       "    </tr>\n",
       "    <tr>\n",
       "      <th>2</th>\n",
       "      <td>Liberica Coffee</td>\n",
       "    </tr>\n",
       "    <tr>\n",
       "      <th>3</th>\n",
       "      <td>Coffee Liberica is the third most popular coff...</td>\n",
       "    </tr>\n",
       "    <tr>\n",
       "      <th>4</th>\n",
       "      <td></td>\n",
       "    </tr>\n",
       "    <tr>\n",
       "      <th>5</th>\n",
       "      <td>Unfortunately, the Liberica Coffee plant is cu...</td>\n",
       "    </tr>\n",
       "    <tr>\n",
       "      <th>6</th>\n",
       "      <td>History of Liberica Coffee</td>\n",
       "    </tr>\n",
       "    <tr>\n",
       "      <th>7</th>\n",
       "      <td>The first plantation of the Liberica plant was...</td>\n",
       "    </tr>\n",
       "    <tr>\n",
       "      <th>8</th>\n",
       "      <td>Where does it grow?</td>\n",
       "    </tr>\n",
       "    <tr>\n",
       "      <th>9</th>\n",
       "      <td>coffee often grows in midland under warm and h...</td>\n",
       "    </tr>\n",
       "    <tr>\n",
       "      <th>10</th>\n",
       "      <td>Excelsa Coffee</td>\n",
       "    </tr>\n",
       "    <tr>\n",
       "      <th>11</th>\n",
       "      <td>Excelsa Coffee used to be considered a unique ...</td>\n",
       "    </tr>\n",
       "    <tr>\n",
       "      <th>12</th>\n",
       "      <td>Excelsa coffee has a distinctive flavor that t...</td>\n",
       "    </tr>\n",
       "    <tr>\n",
       "      <th>13</th>\n",
       "      <td>Health Benefits</td>\n",
       "    </tr>\n",
       "    <tr>\n",
       "      <th>14</th>\n",
       "      <td>When turned in to a beverage, Liberica beans c...</td>\n",
       "    </tr>\n",
       "    <tr>\n",
       "      <th>15</th>\n",
       "      <td>If you became curious about Liberica and Excel...</td>\n",
       "    </tr>\n",
       "  </tbody>\n",
       "</table>\n",
       "</div>"
      ],
      "text/plain": [
       "                                                    0\n",
       "0                                                    \n",
       "1                                                    \n",
       "2                                     Liberica Coffee\n",
       "3   Coffee Liberica is the third most popular coff...\n",
       "4                                                    \n",
       "5   Unfortunately, the Liberica Coffee plant is cu...\n",
       "6                          History of Liberica Coffee\n",
       "7   The first plantation of the Liberica plant was...\n",
       "8                                 Where does it grow?\n",
       "9   coffee often grows in midland under warm and h...\n",
       "10                                     Excelsa Coffee\n",
       "11  Excelsa Coffee used to be considered a unique ...\n",
       "12  Excelsa coffee has a distinctive flavor that t...\n",
       "13                                    Health Benefits\n",
       "14  When turned in to a beverage, Liberica beans c...\n",
       "15  If you became curious about Liberica and Excel..."
      ]
     },
     "execution_count": 22,
     "metadata": {},
     "output_type": "execute_result"
    }
   ],
   "source": [
    "# webpage #8 - for Liberica and Excelsa Details\n",
    "#https://coffeemakershopping.com/introduction-to-coffee-liberica-and-excelsa-beans/ \n",
    "\n",
    "#video8_src = <iframe src=\"https://www.youtube.com/embed/lV9WNP3EMWs\" width=\"560\" height=\"315\" frameborder=\"0\" allowfullscreen=\"allowfullscreen\"></iframe>\n",
    "#video8_code = <iframe width=\"560\" height=\"315\" src=\"https://www.youtube.com/embed/lV9WNP3EMWs\" frameborder=\"0\" allow=\"accelerometer; autoplay; encrypted-media; gyroscope; picture-in-picture\" allowfullscreen></iframe>\n",
    "\n",
    "url = f\"https://coffeemakershopping.com/introduction-to-coffee-liberica-and-excelsa-beans/\"\n",
    "browser.visit(url)\n",
    "time.sleep(1)\n",
    "html = browser.html\n",
    "soup8 = bs(html, \"html.parser\")  #same as soup = bs(page.txt, 'html.parser') \n",
    "section8 = soup8.find('div', class_=\"entry-content\")\n",
    "\n",
    "textContent8 = []\n",
    "\n",
    "for text8 in section8.find_all('p'):\n",
    "    p8 = text8.get_text()\n",
    "    textContent8.append(p8)\n",
    "#print(textContent8)  \n",
    "\n",
    "textContent8_df = pd.DataFrame([textContent8]).T\n",
    "textContent8_df     "
   ]
  },
  {
   "cell_type": "code",
   "execution_count": null,
   "metadata": {},
   "outputs": [],
   "source": []
  },
  {
   "cell_type": "raw",
   "metadata": {},
   "source": [
    "# REFERENCE ONLY:  ALL Websites Scraped:\n",
    "\n",
    "# webpage #1 - Coffee Culture\n",
    "#url = f\"https://club.atlascoffeeclub.com/4-main-types-of-coffee-beans/\"\n",
    "    \n",
    "# webpage #2 - A Closer Look\n",
    "#http://coffeerama.com/closer-look-different-coffee-species/\n",
    "\n",
    "# webpage #3 - Image - 4 Coffee Beans\n",
    "#url = f\"https://club.atlascoffeeclub.com/4-main-types-of-coffee-beans/\"\n",
    "\n",
    "# webpage #4 - Image - Infographic Types of Coffee Species\n",
    "#http://coffeerama.com/infographic-types-coffee-species/    \n",
    "\n",
    "# webpage #5 - Image - for Other Images\n",
    "#http://coffeerama.com/category/bean/\n",
    "\n",
    "# webpage #6 - for Arabaica Details\n",
    "#https://coffeemakershopping.com/introduction-to-coffee-arabica-beans/\n",
    "    \n",
    "# webpage #7 - for Robusta Details\n",
    "#https://coffeemakershopping.com/introduction-to-coffee-robusta-beans/\n",
    "    \n",
    "# webpage #8 - for Liberica and Excelsa Details\n",
    "#https://coffeemakershopping.com/introduction-to-coffee-liberica-and-excelsa-beans/  \n"
   ]
  },
  {
   "cell_type": "raw",
   "metadata": {},
   "source": [
    "## REFERENCE ONLY - Two Methods of Scraping Tables\n",
    "\n",
    "## First method\n",
    "#table = soup.find('table')\n",
    "#table_rows = table.find_all('tr')\n",
    "#print(table_rows)\n",
    "\n",
    "#for tr in table_rows:\n",
    "    #td = tr.find_all ('td')\n",
    "    #row = [i.text for i in td]\n",
    "    #print(row)\n",
    "    \n",
    "## Second method - Simple - Easier\n",
    "#dfs = pd.read_html(f\"https://topbestbrands.com/best-tea-brands/\")\n",
    "#for df in dfs:\n",
    "    #print(df)"
   ]
  },
  {
   "cell_type": "code",
   "execution_count": null,
   "metadata": {},
   "outputs": [],
   "source": []
  },
  {
   "cell_type": "code",
   "execution_count": null,
   "metadata": {},
   "outputs": [],
   "source": []
  },
  {
   "cell_type": "code",
   "execution_count": null,
   "metadata": {},
   "outputs": [],
   "source": []
  },
  {
   "cell_type": "code",
   "execution_count": null,
   "metadata": {},
   "outputs": [],
   "source": []
  },
  {
   "cell_type": "markdown",
   "metadata": {},
   "source": [
    "# ETL SAMPLE CODE"
   ]
  },
  {
   "cell_type": "code",
   "execution_count": null,
   "metadata": {},
   "outputs": [],
   "source": [
    "combined = pd.merge(df, brands, on=\"Top 10 Teas URL (https://topbestbrands.com/best-tea-brands/)\")\n",
    "#combined = combined.drop([\"Subreddit URL (https://www.reddit.com/r/)\"], axis=1)\n",
    "combined.head(32)"
   ]
  },
  {
   "cell_type": "code",
   "execution_count": null,
   "metadata": {},
   "outputs": [],
   "source": [
    "combined.to_csv(\"TeamsSubs.csv\", index=False, header=True)"
   ]
  },
  {
   "cell_type": "markdown",
   "metadata": {},
   "source": [
    "# Scraping Team Values"
   ]
  },
  {
   "cell_type": "code",
   "execution_count": null,
   "metadata": {},
   "outputs": [],
   "source": [
    "values_url = \"https://www.reddit.com/r/nfl/comments/9hflml/forbes_nfl_2018_team_valuations_most_valuable/\""
   ]
  },
  {
   "cell_type": "code",
   "execution_count": null,
   "metadata": {},
   "outputs": [],
   "source": [
    "tables = pd.read_html(values_url)\n",
    "tables"
   ]
  },
  {
   "cell_type": "code",
   "execution_count": null,
   "metadata": {},
   "outputs": [],
   "source": [
    "values_df = tables[0]\n",
    "values_df.columns = [\"Team\", \"Value ($B)\", \"Revenue ($M)\", \"Operating Income ($M)\"]"
   ]
  },
  {
   "cell_type": "code",
   "execution_count": null,
   "metadata": {},
   "outputs": [],
   "source": [
    "values_combined = pd.merge(combined, values_df, on=\"Team\")\n",
    "values_combined.head(32)"
   ]
  },
  {
   "cell_type": "code",
   "execution_count": null,
   "metadata": {},
   "outputs": [],
   "source": [
    "values_combined.to_csv(\"TeamsSubsValues.csv\", index=False, header=True)"
   ]
  },
  {
   "cell_type": "markdown",
   "metadata": {},
   "source": [
    "# Scraping City Populations"
   ]
  },
  {
   "cell_type": "code",
   "execution_count": null,
   "metadata": {},
   "outputs": [],
   "source": [
    "cities = values_combined[\"Real City\"].tolist()\n",
    "cities"
   ]
  },
  {
   "cell_type": "code",
   "execution_count": null,
   "metadata": {},
   "outputs": [],
   "source": [
    "cities = [item.replace(\", \", \"-\") for item in cities]\n",
    "cities = [item.replace(\"New York City\", \"New York\") for item in cities]\n",
    "cities = [item.replace(\" \", \"-\") for item in cities]\n",
    "cities = [item.replace(\"Nashville-Tennessee\", \"Nashville-Davidson-Tennessee\") for item in cities]\n",
    "cities = [item.replace(\"Washington-DC\", \"Washington-District-of-Columbia\") for item in cities]\n",
    "cities_urls = [item + \".html\" for item in cities]\n",
    "cities_urls"
   ]
  },
  {
   "cell_type": "code",
   "execution_count": null,
   "metadata": {},
   "outputs": [],
   "source": [
    "values_combined['City URL'] = pd.Series(cities_urls)\n",
    "values_combined.head(32)"
   ]
  },
  {
   "cell_type": "code",
   "execution_count": null,
   "metadata": {},
   "outputs": [],
   "source": [
    "populations = []\n",
    "\n",
    "for city in cities_urls:\n",
    "    pop_url = f\"http://www.city-data.com/city/{city}\"\n",
    "    browser.visit(pop_url)\n",
    "    time.sleep(1)\n",
    "    pop_html = browser.html\n",
    "    pop_soup = bs(pop_html, \"html.parser\")\n",
    "    population = int(float(pop_soup.find(\"section\", class_=\"city-population\").text.split(\":\")[1].strip().replace(\",\",\"\")))\n",
    "    pop_dictionary = {\"City URL\":city, \"Population (2016)\":population}\n",
    "    populations.append(pop_dictionary)"
   ]
  },
  {
   "cell_type": "code",
   "execution_count": null,
   "metadata": {},
   "outputs": [],
   "source": [
    "pop_df = pd.DataFrame(populations)\n",
    "values_pop_df = pd.merge(values_combined, pop_df, on=\"City URL\")\n",
    "values_pop_df = values_pop_df.drop([\"City URL\"], axis=1)\n",
    "values_pop_df = values_pop_df.drop([21, 23, 28, 30])\n",
    "values_pop_df = values_pop_df.reset_index()\n",
    "values_pop_df.head(32)"
   ]
  },
  {
   "cell_type": "code",
   "execution_count": null,
   "metadata": {},
   "outputs": [],
   "source": [
    "values_pop_df.to_csv(\"TeamsSubsValuesPops.csv\", index=False, header=True)"
   ]
  },
  {
   "cell_type": "markdown",
   "metadata": {},
   "source": [
    "# Scraping Team Ages"
   ]
  },
  {
   "cell_type": "code",
   "execution_count": null,
   "metadata": {},
   "outputs": [],
   "source": [
    "ages_url = \"https://en.wikipedia.org/wiki/National_Football_League\""
   ]
  },
  {
   "cell_type": "code",
   "execution_count": null,
   "metadata": {},
   "outputs": [],
   "source": [
    "ages_tables = pd.read_html(ages_url)\n",
    "ages_tables"
   ]
  },
  {
   "cell_type": "code",
   "execution_count": null,
   "metadata": {},
   "outputs": [],
   "source": [
    "ages_df = ages_tables[2]\n",
    "ages_df = ages_df[[\"Club[57]\", 'First season[59]']]\n",
    "ages_df.columns = [\"Team\", \"Founded\"]\n",
    "years = ages_df[\"Founded\"].tolist()\n",
    "years = [item[:4] for item in years]\n",
    "del years[16]\n",
    "years = years[:-1]\n",
    "years = [int(item) for item in years]"
   ]
  },
  {
   "cell_type": "code",
   "execution_count": null,
   "metadata": {},
   "outputs": [],
   "source": [
    "teams = ages_df[\"Team\"].tolist()\n",
    "del teams[16]\n",
    "del teams[32]"
   ]
  },
  {
   "cell_type": "code",
   "execution_count": null,
   "metadata": {},
   "outputs": [],
   "source": [
    "cleanteams = []\n",
    "\n",
    "for foo in teams:\n",
    "    try:\n",
    "        team = foo.split(\"*\")[0]\n",
    "        cleanteams.append(team)\n",
    "    except:\n",
    "        cleanteams.append(foo)"
   ]
  },
  {
   "cell_type": "code",
   "execution_count": null,
   "metadata": {},
   "outputs": [],
   "source": [
    "teamages = []\n",
    "currentyear = datetime.date.today().year\n",
    "\n",
    "for x in years:\n",
    "    teamage = currentyear - x\n",
    "    teamages.append(teamage)"
   ]
  },
  {
   "cell_type": "code",
   "execution_count": null,
   "metadata": {},
   "outputs": [],
   "source": [
    "ages_df = pd.DataFrame({\n",
    "    \"Team\": cleanteams,\n",
    "    \"Team Age\": teamages\n",
    "})"
   ]
  },
  {
   "cell_type": "code",
   "execution_count": null,
   "metadata": {},
   "outputs": [],
   "source": [
    "ages_df.head(32)"
   ]
  },
  {
   "cell_type": "code",
   "execution_count": null,
   "metadata": {},
   "outputs": [],
   "source": [
    "final_df = pd.merge(values_pop_df, ages_df, on=\"Team\")\n",
    "final_df = final_df.drop([\"index\"], axis=1)\n",
    "final_df.head(32)"
   ]
  },
  {
   "cell_type": "code",
   "execution_count": null,
   "metadata": {},
   "outputs": [],
   "source": [
    "final_df.to_csv(\"TeamsSubsValuesPopsAges.csv\", index=False, header=True)"
   ]
  },
  {
   "cell_type": "markdown",
   "metadata": {},
   "source": [
    "# Loading to AWS DB"
   ]
  },
  {
   "cell_type": "code",
   "execution_count": null,
   "metadata": {},
   "outputs": [],
   "source": [
    "from sqlalchemy import create_engine\n",
    "from config import remote_db_endpoint, remote_db_port\n",
    "from config import remote_gwsis_dbname, remote_gwsis_dbuser, remote_gwsis_dbpwd\n",
    "import pymysql\n",
    "import pandas as pd\n",
    "pymysql.install_as_MySQLdb()\n",
    "# endpoint: gwda-etl-project.c2supt4qfmve.us-east-2.rds.amazonaws.com"
   ]
  },
  {
   "cell_type": "code",
   "execution_count": null,
   "metadata": {},
   "outputs": [],
   "source": [
    "engine = create_engine(f\"mysql://{remote_gwsis_dbuser}:{remote_gwsis_dbpwd}@{remote_db_endpoint}:{remote_db_port}/{remote_gwsis_dbname}\")\n",
    "conn = engine.connect()"
   ]
  },
  {
   "cell_type": "code",
   "execution_count": null,
   "metadata": {},
   "outputs": [],
   "source": [
    "team_df = pd.read_csv(\"Teams.csv\")\n",
    "teams_load = team_df\n",
    "teams_load.to_sql(name='Teams', if_exists='append', con=conn, chunksize=500, index=False)"
   ]
  },
  {
   "cell_type": "code",
   "execution_count": null,
   "metadata": {},
   "outputs": [],
   "source": [
    "subs_df = pd.read_csv(\"TeamsSubs.csv\")\n",
    "subs_load = subs_df\n",
    "subs_load.to_sql(name='Subscribers', if_exists='append', con=conn, chunksize=500, index=False)"
   ]
  },
  {
   "cell_type": "code",
   "execution_count": null,
   "metadata": {},
   "outputs": [],
   "source": [
    "values_df = pd.read_csv(\"TeamsSubsValues.csv\")\n",
    "values_load = values_df\n",
    "values_load.to_sql(name='Valuations', if_exists='append', con=conn, chunksize=500, index=False)"
   ]
  },
  {
   "cell_type": "code",
   "execution_count": null,
   "metadata": {},
   "outputs": [],
   "source": [
    "pops_df = pd.read_csv(\"TeamsSubsValuesPops.csv\")\n",
    "pops_load = pops_df\n",
    "pops_load.to_sql(name='Populations', if_exists='append', con=conn, chunksize=500, index=False)"
   ]
  },
  {
   "cell_type": "code",
   "execution_count": null,
   "metadata": {},
   "outputs": [],
   "source": [
    "final_df = pd.read_csv(\"TeamsSubsValuesPopsAges.csv\")\n",
    "final_load = final_df\n",
    "final_load.to_sql(name='Final', if_exists='append', con=conn, chunksize=500, index=False)"
   ]
  },
  {
   "cell_type": "markdown",
   "metadata": {},
   "source": [
    "# Loading to Salesforce"
   ]
  },
  {
   "cell_type": "code",
   "execution_count": null,
   "metadata": {},
   "outputs": [],
   "source": [
    "import requests\n",
    "import base64\n",
    "from base64 import b64encode \n",
    "import json\n",
    "from sqlalchemy import create_engine\n",
    "import pymysql\n",
    "pymysql.install_as_MySQLdb()\n",
    "import pandas as pd\n",
    "\n",
    "from config import remote_db_endpoint, remote_db_port\n",
    "from config import remote_gwsis_dbname, remote_gwsis_dbuser, remote_gwsis_dbpwd\n",
    "\n",
    "from config import sf_grant_type, sf_client_id, sf_client_secret, sf_username, sf_password, sf_endpoint"
   ]
  },
  {
   "cell_type": "code",
   "execution_count": null,
   "metadata": {},
   "outputs": [],
   "source": [
    "params = {\n",
    "    \"grant_type\": sf_grant_type,\n",
    "    \"client_id\": sf_client_id, # Consumer Key\n",
    "    \"client_secret\": sf_client_secret, # Consumer Secret\n",
    "    \"username\": sf_username, # The email you use to login\n",
    "    \"password\": sf_password # Concat your password and your security token\n",
    "}\n",
    "\n",
    "r = requests.post(sf_endpoint, params=params)\n",
    "access_token = r.json().get(\"access_token\")\n",
    "instance_url = r.json().get(\"instance_url\")\n",
    "print(\"Access Token:\", access_token)\n",
    "print(\"Instance URL\", instance_url)"
   ]
  },
  {
   "cell_type": "code",
   "execution_count": null,
   "metadata": {},
   "outputs": [],
   "source": [
    "def sf_api_call(action, parameters = {}, method = \"get\", data = {}):\n",
    "    # Helper function to make calls to Salesforce REST API.\n",
    "    # Parameters: action (the URL), URL params, method (get, post or patch),\n",
    "    # data for POST/PATCH.\n",
    "    headers = {\n",
    "        'Content-type': 'application/json',\n",
    "        'Accept-Encoding': 'gzip',\n",
    "        'Authorization': 'Bearer %s' % access_token\n",
    "    }\n",
    "    if method == 'get':\n",
    "        r = requests.request(method, instance_url+action, headers=headers, params=parameters)\n",
    "    elif method in ['post', 'patch']:\n",
    "        r = requests.request(method, instance_url+action, headers=headers, json=data, params=parameters)\n",
    "    else:\n",
    "        # other methods not implemented in this example\n",
    "        raise ValueError('Method should be get or post or patch.')\n",
    "    print('Debug: API %s call: %s' % (method, r.url) )\n",
    "    if r.status_code < 300:\n",
    "        if method=='patch':\n",
    "            return None\n",
    "        else:\n",
    "            return r.json()\n",
    "    else:\n",
    "        raise Exception('API error when calling %s : %s' % (r.url, r.content))"
   ]
  },
  {
   "cell_type": "code",
   "execution_count": null,
   "metadata": {},
   "outputs": [],
   "source": []
  },
  {
   "cell_type": "code",
   "execution_count": null,
   "metadata": {},
   "outputs": [],
   "source": [
    "engine = create_engine(f\"mysql://{remote_gwsis_dbuser}:{remote_gwsis_dbpwd}@{remote_db_endpoint}:{remote_db_port}/{remote_gwsis_dbname}\")\n",
    "conn = engine.connect()"
   ]
  },
  {
   "cell_type": "code",
   "execution_count": null,
   "metadata": {},
   "outputs": [],
   "source": [
    "NFL_data = pd.read_sql(\"SELECT * FROM Final\", conn)\n",
    "NFL_data.head(32)"
   ]
  },
  {
   "cell_type": "code",
   "execution_count": null,
   "metadata": {},
   "outputs": [],
   "source": [
    "for index, row in NFL_data.iterrows():\n",
    "    call = sf_api_call('/services/data/v40.0/sobjects/NFL_Data__c/', method=\"post\", data={\n",
    "        'Subscribers__c': row['Subs'],\n",
    "        'Team__c': row['Team'],\n",
    "        'Stadium_City__c': row['Stadium City'],\n",
    "        'Real_City__c': row['Real City'],\n",
    "        'Value_B__c': row['Value ($B)'],\n",
    "        'Revenue_M__c': row['Revenue ($M)'],\n",
    "        'Operating_Income_M__c': row['Operating Income ($M)'],\n",
    "        'Population_2016__c': row['Population (2016)'],\n",
    "        'Team_Age__c': row['Team Age']\n",
    "    })"
   ]
  }
 ],
 "metadata": {
  "kernelspec": {
   "display_name": "Python 3",
   "language": "python",
   "name": "python3"
  },
  "language_info": {
   "codemirror_mode": {
    "name": "ipython",
    "version": 3
   },
   "file_extension": ".py",
   "mimetype": "text/x-python",
   "name": "python",
   "nbconvert_exporter": "python",
   "pygments_lexer": "ipython3",
   "version": "3.7.0"
  }
 },
 "nbformat": 4,
 "nbformat_minor": 2
}
